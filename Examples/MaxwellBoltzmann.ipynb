{
 "cells": [
  {
   "cell_type": "markdown",
   "metadata": {},
   "source": [
    "# Maxwell-Boltzmann Distributions\n",
    "\n",
    "Let's take a box which has some atoms inside. The atoms are in the vapour phase, and we can consider it an ideal gas. In this case the Maxwell-Boltzmann distribution tells us how fast the atoms are moving. The speed distribution obeys the relationship,\n",
    "\n",
    "$$ f_i(v) = A e^{{-\\beta E_i(v_i)}}$$\n",
    "\n",
    "or, if we assume that the kinetic energy dominates $E_i = \\frac{1}{2}mv_i^2$ and $\\beta = \\frac{1}{k_B T}$, where $k_B=1.38064852 \\times 10^{-23} m^2 s^{-2} kg\\,  K^{-1}$ and the distribution is normalized to unit area, then:\n",
    "\n",
    "$$ f_v(v) = \\left(\\frac{m}{2\\pi k_B T}\\right)^{3/2} \\; 4\\pi v_i^2 \\; \\exp\\left({\\frac{-mv_i^2}{2k_B T}}\\right) $$\n",
    "\n",
    "that is, the fraction of atoms $f_v$ with velocity $v$, $k_B$ is Boltzmann's constant, $T$ is the thermodynamic temperature (in Kelvin) and $m$ is the mass of the atoms. \n",
    "\n",
    "Let's build up what that distribution should look like, and then change the temperature!"
   ]
  },
  {
   "cell_type": "markdown",
   "metadata": {},
   "source": [
    "## Function for the distribution\n",
    "\n",
    "How should this be constructed? What should it depend on?"
   ]
  },
  {
   "cell_type": "code",
   "execution_count": 53,
   "metadata": {},
   "outputs": [],
   "source": [
    "def MBspeed():\n",
    "    \"\"\" Maxwell-Boltzmann speed distribution for speeds \"\"\"\n",
    "    return 1."
   ]
  },
  {
   "cell_type": "markdown",
   "metadata": {},
   "source": [
    "## Plotting the distribution\n",
    "\n",
    "Setup the libraries as usual."
   ]
  },
  {
   "cell_type": "code",
   "execution_count": 54,
   "metadata": {},
   "outputs": [],
   "source": [
    "# Import the required modules\n",
    "import numpy as np\n",
    "import matplotlib.pyplot as plt\n",
    "%matplotlib inline"
   ]
  },
  {
   "cell_type": "markdown",
   "metadata": {},
   "source": [
    "Set some constants that we may want"
   ]
  },
  {
   "cell_type": "code",
   "execution_count": 55,
   "metadata": {},
   "outputs": [],
   "source": [
    "amu  = 1.66e-27\n",
    "mass = 85*amu"
   ]
  },
  {
   "cell_type": "markdown",
   "metadata": {},
   "source": [
    "For the actual plot, we'll want to:\n",
    "1. setup the $x$-axis (which, in this case, is velocity, $v$) as an array\n",
    "1. vary the temperature across a few values\n",
    "1. vary the mass across a few values\n",
    "1. plot each on the same axes"
   ]
  },
  {
   "cell_type": "code",
   "execution_count": 56,
   "metadata": {},
   "outputs": [
    {
     "data": {
      "image/png": "[encoded data removed]",
      "text/plain": [
       "<Figure size 432x288 with 1 Axes>"
      ]
     },
     "metadata": {
      "needs_background": "light"
     },
     "output_type": "display_data"
    }
   ],
   "source": [
    "fig = plt.figure()\n",
    "ax = fig.add_subplot(111)\n",
    "\n",
    "amu = 1.66e-27\n",
    "mass = 85*amu"
   ]
  },
  {
   "cell_type": "markdown",
   "metadata": {},
   "source": [
    "# Naive python accept / reject\n",
    "\n",
    "This is meant to be an easily readable implementation of the accept / reject algorithm. It's easy to understand not very fast.\n"
   ]
  },
  {
   "cell_type": "code",
   "execution_count": 57,
   "metadata": {},
   "outputs": [],
   "source": [
    "def accept_reject(N):\n",
    "    \"\"\" accept-reject method for randomly sampling a distribution \"\"\"\n",
    "    xmin = 0\n",
    "    xmax = 800\n",
    "\n",
    "    n_accept=0\n",
    "    x_list = [] \n",
    "    while n_accept < N:\n",
    "        t = (xmax-xmin)*np.random.rand() + xmin\n",
    "        y = np.random.rand()\n",
    "        if y < MBspeed():\n",
    "            n_accept += 1\n",
    "            x_list.append(t)\n",
    "    return x_list"
   ]
  },
  {
   "cell_type": "code",
   "execution_count": 58,
   "metadata": {},
   "outputs": [
    {
     "data": {
      "image/png": "[encoded data removed]",
      "text/plain": [
       "<Figure size 432x288 with 1 Axes>"
      ]
     },
     "metadata": {
      "needs_background": "light"
     },
     "output_type": "display_data"
    }
   ],
   "source": [
    "x = accept_reject(100)\n",
    "bins, edges, patches = plt.hist(x, bins=100)\n",
    "plt.show()"
   ]
  },
  {
   "cell_type": "code",
   "execution_count": null,
   "metadata": {},
   "outputs": [],
   "source": []
  }
 ],
 "metadata": {
  "kernelspec": {
   "display_name": "Python 3",
   "language": "python",
   "name": "python3"
  },
  "language_info": {
   "codemirror_mode": {
    "name": "ipython",
    "version": 3
   },
   "file_extension": ".py",
   "mimetype": "text/x-python",
   "name": "python",
   "nbconvert_exporter": "python",
   "pygments_lexer": "ipython3",
   "version": "3.7.4"
  }
 },
 "nbformat": 4,
 "nbformat_minor": 2
}
